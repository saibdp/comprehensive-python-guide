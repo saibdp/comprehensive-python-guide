{
 "cells": [
  {
   "cell_type": "markdown",
   "id": "83426886-6cd9-4ff7-a4e0-f16368f848e7",
   "metadata": {},
   "source": [
    "# 1. Python Functions"
   ]
  },
  {
   "cell_type": "code",
   "execution_count": 1,
   "id": "8e6ff01e-fe99-47ea-9119-dd2b80c50438",
   "metadata": {},
   "outputs": [],
   "source": [
    "# Function with different numbers of parameters and return types\n",
    "def greet(name=\"Guest\"):\n",
    "    return f\"Hello, {name}!\"\n",
    "\n",
    "# Function with default arguments\n",
    "def power(base, exponent=2):\n",
    "    return base ** exponent\n",
    "\n",
    "# Recursive function example\n",
    "def factorial(n):\n",
    "    return 1 if n == 0 else n * factorial(n - 1)\n",
    "\n",
    "# Function demonstrating scope\n",
    "def outer_function():\n",
    "    outer_var = \"I'm outside!\"\n",
    "    def inner_function():\n",
    "        inner_var = \"I'm inside!\"\n",
    "        print(outer_var)  # Accessing outer variable\n",
    "    inner_function()\n",
    "\n",
    "# Using docstrings to document a function\n",
    "def add(a, b):\n",
    "    \"\"\"This function returns the sum of two numbers.\"\"\"\n",
    "    return a + b\n"
   ]
  },
  {
   "cell_type": "markdown",
   "id": "0792e38e-0b09-4fc4-b062-867aa64812fb",
   "metadata": {},
   "source": [
    "# 2. Lambda Functions"
   ]
  },
  {
   "cell_type": "code",
   "execution_count": 2,
   "id": "61ffbfc8-bd2e-4465-89bc-1e37708ea0f4",
   "metadata": {},
   "outputs": [],
   "source": [
    "# Simple lambda functions\n",
    "add = lambda x, y: x + y\n",
    "multiply = lambda a, b: a * b\n",
    "\n",
    "# Lambda functions with map, filter, reduce\n",
    "from functools import reduce\n",
    "squared = list(map(lambda x: x**2, range(5)))\n",
    "filtered = list(filter(lambda x: x % 2 == 0, range(10)))\n",
    "summed = reduce(lambda x, y: x + y, range(10))\n",
    "\n",
    "# Comparing lambda to regular function\n",
    "def square(x):\n",
    "    return x ** 2\n",
    "squared_lambda = lambda x: x ** 2\n"
   ]
  },
  {
   "cell_type": "markdown",
   "id": "cb9eea87-6e6a-4dd8-b77c-027a682b1203",
   "metadata": {},
   "source": [
    "# 3. NumPy"
   ]
  },
  {
   "cell_type": "code",
   "execution_count": 3,
   "id": "7cfbfaa9-c5f3-4a7d-8e39-7db10157f993",
   "metadata": {},
   "outputs": [
    {
     "name": "stdout",
     "output_type": "stream",
     "text": [
      "2\n",
      "[1 3]\n"
     ]
    }
   ],
   "source": [
    "import numpy as np\n",
    "\n",
    "# Creating different arrays\n",
    "arr1d = np.array([1, 2, 3])\n",
    "arr2d = np.array([[1, 2], [3, 4]])\n",
    "arr3d = np.random.rand(2, 2, 2)\n",
    "\n",
    "# Array operations\n",
    "arr_sum = arr1d + 5\n",
    "arr_product = arr1d * 2\n",
    "\n",
    "# Indexing and slicing\n",
    "print(arr2d[0, 1])  # Access element\n",
    "print(arr2d[:, 0])  # Slice\n",
    "\n",
    "# Array manipulation\n",
    "reshaped = arr1d.reshape(3, 1)\n",
    "transposed = arr2d.T\n",
    "concatenated = np.concatenate((arr1d, arr1d))\n",
    "\n",
    "# Random number generation\n",
    "random_numbers = np.random.rand(5)\n"
   ]
  },
  {
   "cell_type": "markdown",
   "id": "e0c98a7e-54c0-4593-9931-f69e23fceab6",
   "metadata": {},
   "source": [
    "# 4. Pandas"
   ]
  },
  {
   "cell_type": "code",
   "execution_count": 5,
   "id": "71f5696e-6a56-430e-bb12-7a6ed8e553ca",
   "metadata": {},
   "outputs": [],
   "source": [
    "import pandas as pd\n",
    "\n",
    "# Create Series and DataFrame\n",
    "series = pd.Series([1, 2, 3], index=['a', 'b', 'c'])\n",
    "df = pd.DataFrame({'A': [1, 2], 'B': [3, 4]})\n",
    "\n",
    "# Loading data\n",
    "csv_df = pd.read_csv(\"cars.csv\")\n",
    "\n",
    "# Data manipulation\n",
    "df['C'] = df['A'] + df['B']\n",
    "df.dropna()  # Handling missing values\n",
    "\n",
    "# Grouping and pivot tables\n",
    "grouped = df.groupby('A').sum()\n",
    "pivot = df.pivot_table(values='B', index='A', aggfunc='mean')\n"
   ]
  },
  {
   "cell_type": "markdown",
   "id": "d321bf80-94f9-4145-b461-145b1b9bb7e5",
   "metadata": {},
   "source": [
    "# 5. If Statements"
   ]
  },
  {
   "cell_type": "code",
   "execution_count": 6,
   "id": "9bd5dd9b-4570-4313-99bc-d469679832f5",
   "metadata": {},
   "outputs": [
    {
     "name": "stdout",
     "output_type": "stream",
     "text": [
      "Positive\n",
      "Adult\n",
      "Positive and less than 20\n"
     ]
    }
   ],
   "source": [
    "x = 10\n",
    "if x > 0:\n",
    "    print(\"Positive\")\n",
    "elif x < 0:\n",
    "    print(\"Negative\")\n",
    "else:\n",
    "    print(\"Zero\")\n",
    "\n",
    "# Complex conditionals\n",
    "age = 20\n",
    "if age >= 18 and age < 65:\n",
    "    print(\"Adult\")\n",
    "\n",
    "# Nested if statements\n",
    "if x > 0:\n",
    "    if x < 20:\n",
    "        print(\"Positive and less than 20\")\n"
   ]
  },
  {
   "cell_type": "markdown",
   "id": "96324f4d-054c-411a-940b-ba456280b47b",
   "metadata": {},
   "source": [
    "# 6. Loops"
   ]
  },
  {
   "cell_type": "code",
   "execution_count": 7,
   "id": "8c82eeab-9f77-4874-9728-66d4503bf308",
   "metadata": {},
   "outputs": [
    {
     "name": "stdout",
     "output_type": "stream",
     "text": [
      "0\n",
      "1\n",
      "2\n",
      "3\n",
      "4\n",
      "0\n",
      "1\n",
      "2\n",
      "3\n",
      "4\n",
      "0 0\n",
      "0 1\n",
      "0 2\n",
      "1 0\n",
      "1 1\n",
      "1 2\n",
      "2 0\n",
      "2 1\n",
      "2 2\n",
      "1\n",
      "3\n"
     ]
    }
   ],
   "source": [
    "# For loop\n",
    "for i in range(5):\n",
    "    print(i)\n",
    "\n",
    "# While loop\n",
    "count = 0\n",
    "while count < 5:\n",
    "    print(count)\n",
    "    count += 1\n",
    "\n",
    "# Nested loops\n",
    "for i in range(3):\n",
    "    for j in range(3):\n",
    "        print(i, j)\n",
    "\n",
    "# Break and continue\n",
    "for i in range(10):\n",
    "    if i == 5:\n",
    "        break\n",
    "    if i % 2 == 0:\n",
    "        continue\n",
    "    print(i)\n"
   ]
  },
  {
   "cell_type": "markdown",
   "id": "f5a9da5e-8284-4322-ad81-6e173d1e08c1",
   "metadata": {},
   "source": [
    "# 7. Lists, Tuples, Sets, Dictionaries"
   ]
  },
  {
   "cell_type": "code",
   "execution_count": 8,
   "id": "8fd604b9-b149-4d90-a6f3-1439b6636758",
   "metadata": {},
   "outputs": [
    {
     "name": "stdout",
     "output_type": "stream",
     "text": [
      "2\n"
     ]
    }
   ],
   "source": [
    "# List operations\n",
    "my_list = [1, 2, 3]\n",
    "my_list.append(4)\n",
    "my_list.remove(1)\n",
    "\n",
    "# Tuple operations\n",
    "my_tuple = (1, 2, 3)\n",
    "print(my_tuple[1])\n",
    "\n",
    "# Set operations\n",
    "my_set = {1, 2, 3}\n",
    "my_set.add(4)\n",
    "\n",
    "# Dictionary operations\n",
    "my_dict = {'a': 1, 'b': 2}\n",
    "my_dict['c'] = 3\n"
   ]
  },
  {
   "cell_type": "markdown",
   "id": "a5913e14-008e-4f07-8561-90a0177270a4",
   "metadata": {},
   "source": [
    "# 8. Operators"
   ]
  },
  {
   "cell_type": "code",
   "execution_count": 9,
   "id": "4b796e51-11c0-41d2-9d3e-bead467ce315",
   "metadata": {},
   "outputs": [],
   "source": [
    "# Arithmetic\n",
    "add = 5 + 3\n",
    "multiply = 5 * 3\n",
    "\n",
    "# Comparison\n",
    "is_equal = 5 == 5\n",
    "is_greater = 5 > 3\n",
    "\n",
    "# Logical\n",
    "is_true = (5 > 3) and (3 < 4)\n"
   ]
  },
  {
   "cell_type": "markdown",
   "id": "16f9ec0f-765e-467f-acb6-ffb1b7eb17e8",
   "metadata": {},
   "source": [
    "# 9. Reading CSV Files"
   ]
  },
  {
   "cell_type": "code",
   "execution_count": 11,
   "id": "eef6317b-0b2c-451a-80be-299945283685",
   "metadata": {},
   "outputs": [],
   "source": [
    "# Reading a CSV file\n",
    "df = pd.read_csv(\"cars.csv\")\n",
    "\n",
    "# Specifying options\n",
    "df = pd.read_csv(\"cars.csv\", delimiter=\";\", header=0)\n",
    "\n",
    "# Handling missing values\n",
    "df = pd.read_csv(\"cars.csv\").fillna(0)\n"
   ]
  },
  {
   "cell_type": "markdown",
   "id": "78a88353-cb44-434a-9d28-841b921b70e0",
   "metadata": {},
   "source": [
    "# 10. Python String Methods"
   ]
  },
  {
   "cell_type": "code",
   "execution_count": 12,
   "id": "6324cbd7-3089-467e-934d-39b11bcb42c8",
   "metadata": {},
   "outputs": [
    {
     "name": "stdout",
     "output_type": "stream",
     "text": [
      " hello, world! \n",
      " HELLO, WORLD! \n",
      "Hello, World!\n",
      " Hi, World! \n",
      "8\n"
     ]
    }
   ],
   "source": [
    "# String manipulations\n",
    "text = \" Hello, World! \"\n",
    "print(text.lower())\n",
    "print(text.upper())\n",
    "print(text.strip())\n",
    "print(text.replace(\"Hello\", \"Hi\"))\n",
    "\n",
    "# Splitting and finding\n",
    "words = text.split(\",\")\n",
    "print(text.find(\"World\"))\n"
   ]
  },
  {
   "cell_type": "code",
   "execution_count": null,
   "id": "454c79a2-7e21-422e-8a1e-f0daaf488787",
   "metadata": {},
   "outputs": [],
   "source": []
  }
 ],
 "metadata": {
  "kernelspec": {
   "display_name": "Python 3 (ipykernel)",
   "language": "python",
   "name": "python3"
  },
  "language_info": {
   "codemirror_mode": {
    "name": "ipython",
    "version": 3
   },
   "file_extension": ".py",
   "mimetype": "text/x-python",
   "name": "python",
   "nbconvert_exporter": "python",
   "pygments_lexer": "ipython3",
   "version": "3.11.7"
  }
 },
 "nbformat": 4,
 "nbformat_minor": 5
}
